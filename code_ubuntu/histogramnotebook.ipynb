{
 "cells": [
  {
   "cell_type": "code",
   "execution_count": null,
   "id": "extended-brick",
   "metadata": {},
   "outputs": [],
   "source": [
    "import numpy as np\n",
    "import pynbody\n",
    "import matplotlib.pyplot as plt\n",
    "import scipy.integrate as integrate\n",
    "from tqdm import tqdm"
   ]
  },
  {
   "cell_type": "code",
   "execution_count": null,
   "id": "governmental-netscape",
   "metadata": {},
   "outputs": [],
   "source": [
    "# Impot the snapshot\n",
    "s = pynbody.load('snapshot_data/snapshot_001')"
   ]
  },
  {
   "cell_type": "code",
   "execution_count": null,
   "id": "curious-family",
   "metadata": {},
   "outputs": [],
   "source": [
    "# Extract the halos\n",
    "h = s.halos()"
   ]
  },
  {
   "cell_type": "code",
   "execution_count": null,
   "id": "geological-convention",
   "metadata": {},
   "outputs": [],
   "source": [
    "# Load all the masses into one vector\n",
    "m=[]\n",
    "for i in tqdm(range(1,len(h))):\n",
    "    m.append(h[i]['mass'].sum())\n",
    "m=np.array(m)"
   ]
  },
  {
   "cell_type": "code",
   "execution_count": null,
   "id": "synthetic-unknown",
   "metadata": {},
   "outputs": [],
   "source": [
    "plt.figure(figsize=(7,5), dpi=80)\n",
    "plt.xlabel('Frequency')\n",
    "plt.ylabel('Mass Value')\n",
    "plt.plot(m)"
   ]
  },
  {
   "cell_type": "code",
   "execution_count": null,
   "id": "brave-france",
   "metadata": {},
   "outputs": [],
   "source": [
    "plt.figure(figsize=(7,5), dpi=80)\n",
    "n, bins, patches=plt.hist(m, bins=10)"
   ]
  },
  {
   "cell_type": "code",
   "execution_count": null,
   "id": "saved-prince",
   "metadata": {},
   "outputs": [],
   "source": [
    "print(n)"
   ]
  },
  {
   "cell_type": "code",
   "execution_count": null,
   "id": "skilled-synthesis",
   "metadata": {},
   "outputs": [],
   "source": [
    "print(bins)"
   ]
  },
  {
   "cell_type": "code",
   "execution_count": null,
   "id": "direct-relations",
   "metadata": {},
   "outputs": [],
   "source": [
    "print(patches)"
   ]
  },
  {
   "cell_type": "code",
   "execution_count": null,
   "id": "loaded-gather",
   "metadata": {},
   "outputs": [],
   "source": [
    "result = 0\n",
    "for i,j in zip(bins, n):\n",
    "    result += np.array(i) * j"
   ]
  },
  {
   "cell_type": "code",
   "execution_count": null,
   "id": "photographic-ranking",
   "metadata": {},
   "outputs": [],
   "source": [
    "result = []\n",
    "for i in range(len(bins)):\n",
    "    result[i] = integrate.quad(n[i]/bins[i],bins[i],bins[i+1])"
   ]
  },
  {
   "cell_type": "code",
   "execution_count": null,
   "id": "systematic-stranger",
   "metadata": {},
   "outputs": [],
   "source": []
  }
 ],
 "metadata": {
  "kernelspec": {
   "display_name": "Python 3",
   "language": "python",
   "name": "python3"
  },
  "language_info": {
   "codemirror_mode": {
    "name": "ipython",
    "version": 3
   },
   "file_extension": ".py",
   "mimetype": "text/x-python",
   "name": "python",
   "nbconvert_exporter": "python",
   "pygments_lexer": "ipython3",
   "version": "3.8.5"
  }
 },
 "nbformat": 4,
 "nbformat_minor": 5
}
