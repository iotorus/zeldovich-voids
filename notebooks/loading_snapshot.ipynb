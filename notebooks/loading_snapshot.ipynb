{
 "cells": [
  {
   "cell_type": "code",
   "execution_count": null,
   "id": "bf3dcbe9",
   "metadata": {},
   "outputs": [],
   "source": [
    "import numpy as np\n",
    "import pynbody\n",
    "import matplotlib as mpl\n",
    "import matplotlib.pyplot as plt\n",
    "import pynbody.plot.sph as sph\n",
    "import matplotlib.colors as colors"
   ]
  },
  {
   "cell_type": "code",
   "execution_count": null,
   "id": "c40d0781",
   "metadata": {},
   "outputs": [],
   "source": [
    "# Load the snapshots\n",
    "s1 = pynbody.load('snapshot_data/snapshot_001') # Snapshot at z=0\n",
    "s2 = pynbody.load('snapshot_data/gadget_ic_lowres_for.gadget2') # Initial conditions at z=50\n",
    "s1.physical_units()\n",
    "s2.physical_units()\n"
   ]
  },
  {
   "cell_type": "code",
   "execution_count": null,
   "id": "78fa5eb7",
   "metadata": {},
   "outputs": [],
   "source": [
    "# Collect z-coordinates of snapshots\n",
    "z1 = s1['pos'][0:,2]\n",
    "z2 = s2['pos'][0:,2]\n",
    "z1.convert_units('Mpc')\n",
    "z2.convert_units('Mpc')\n",
    "\n",
    "# Cosmological mean density\n",
    "rho_b1 = np.mean(s1['rho'])\n",
    "rho_b1.convert_units('g cm^-3')\n",
    "rho_b2 = np.mean(s2['rho'])\n",
    "rho_b2.convert_units('g cm^-3')"
   ]
  },
  {
   "cell_type": "code",
   "execution_count": null,
   "id": "fac12dee",
   "metadata": {},
   "outputs": [],
   "source": [
    "# Splice the z-coordinate and plot\n",
    "a = 5.;b=10.\n",
    "t1 = s1[np.where((z1>a)&(z1<b))]\n",
    "data1 = sph.image(t1, qty='rho', width= 500, av_z=True, units='g cm^-3', cmap='inferno', title= 'Density distribution at z=0')"
   ]
  },
  {
   "cell_type": "code",
   "execution_count": null,
   "id": "69d443bf",
   "metadata": {},
   "outputs": [],
   "source": [
    "t2=s2[np.where((z2>a)&(z2<b))]\n",
    "data2 = sph.image(t2, qty='rho', width= 500, av_z=True, units='g cm^-3', cmap='inferno', title= 'Density distribution at z=50')"
   ]
  },
  {
   "cell_type": "code",
   "execution_count": null,
   "id": "60ee1571",
   "metadata": {},
   "outputs": [],
   "source": [
    "# Rescaling by cosmological mean\n",
    "rho1 = data1 / rho_b1\n",
    "rho2 = data2 / rho_b2"
   ]
  },
  {
   "cell_type": "code",
   "execution_count": null,
   "id": "7c7b27a0",
   "metadata": {},
   "outputs": [],
   "source": [
    "# Plotting z=0 snapshot using imshow()\n",
    "z_0 = plt.imshow(rho1)\n",
    "plt.title('Density at z =0 as a function of average cosmological density', pad=20)\n",
    "plt.xlabel('x/Mpc')\n",
    "plt.ylabel('y/Mpc')\n",
    "pcm = plt.pcolor(rho1,\n",
    "                   norm=colors.LogNorm(vmin=1e-3, vmax=1e3),\n",
    "                   cmap='PuOr_r', shading='auto')\n",
    "plt.colorbar(pcm, extend='max', label='Density rho (g cm^{-3})/rho_b')"
   ]
  },
  {
   "cell_type": "code",
   "execution_count": null,
   "id": "f0c286db",
   "metadata": {
    "scrolled": true
   },
   "outputs": [],
   "source": [
    "# Plotting z=50 snapshot using imshow()\n",
    "z_50 = plt.imshow(rho2) \n",
    "plt.title('Density at z=50 as a function of average cosmological density',pad=20)\n",
    "plt.xlabel('x/Mpc')\n",
    "plt.ylabel('y/Mpc')\n",
    "pcm = plt.pcolor(rho2,\n",
    "                   norm=colors.Normalize(vmin=0.99, vmax=1.01),\n",
    "                   cmap='PuOr_r', shading='auto')\n",
    "plt.colorbar(pcm, extend='max', label=r'Density $\\rho$ (g cm^{-3})/rho_b')"
   ]
  },
  {
   "cell_type": "code",
   "execution_count": null,
   "id": "49004104",
   "metadata": {},
   "outputs": [],
   "source": []
  }
 ],
 "metadata": {
  "kernelspec": {
   "display_name": "Python 3 (ipykernel)",
   "language": "python",
   "name": "python3"
  },
  "language_info": {
   "codemirror_mode": {
    "name": "ipython",
    "version": 3
   },
   "file_extension": ".py",
   "mimetype": "text/x-python",
   "name": "python",
   "nbconvert_exporter": "python",
   "pygments_lexer": "ipython3",
   "version": "3.8.10"
  }
 },
 "nbformat": 4,
 "nbformat_minor": 5
}
